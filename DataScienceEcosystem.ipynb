{
 "cells": [
  {
   "cell_type": "markdown",
   "id": "ead34f04-672d-4a05-96a1-06de6eaa708f",
   "metadata": {},
   "source": [
    "# Data Science Tools and Ecosystem"
   ]
  },
  {
   "attachments": {},
   "cell_type": "markdown",
   "id": "669db6a7-be82-405c-8b5f-709a7c646f8c",
   "metadata": {},
   "source": [
    "### In this notebook, Data Science Tools and Ecosystem are summarized."
   ]
  },
  {
   "cell_type": "markdown",
   "id": "2da43561-a06f-4eab-b6f0-fae5ce41f884",
   "metadata": {},
   "source": [
    "#### <b>Objectives</b>\n",
    "- List popular languages for data science\n",
    "- List commonly used libraries by data scientists\n",
    "- Evaluate arithmetic expressions"
   ]
  },
  {
   "cell_type": "markdown",
   "id": "5c48dd8b-3355-4089-941d-2f7806ec5374",
   "metadata": {},
   "source": [
    "##### Some of the popular languages that Data Scientists use are:\n",
    "1. Python\n",
    "2. SQL\n",
    "3. R"
   ]
  },
  {
   "cell_type": "markdown",
   "id": "17b92396-38ec-498a-96bc-c52d2d42adbb",
   "metadata": {},
   "source": [
    "##### Some of the commonly used libraries used by Data Scientists include:\n",
    "1. Pandas\n",
    "2. Scikit-learn\n",
    "3. Numpy"
   ]
  },
  {
   "cell_type": "markdown",
   "id": "e902a0ce-dfb4-4e9b-9ce7-bfb8e8e0aa38",
   "metadata": {},
   "source": [
    "Data Science Tools\n",
    "---\n",
    "##### Apache Spark\n",
    "---\n",
    "##### TensorFlow\n",
    "---\n",
    "##### Tableau\n",
    "---"
   ]
  },
  {
   "cell_type": "markdown",
   "id": "44409802-a27c-494f-aabb-ffd6aad6b0c1",
   "metadata": {},
   "source": [
    "### Below are a few examples of evaluating arithmetic expressions in Python."
   ]
  },
  {
   "cell_type": "code",
   "execution_count": 7,
   "id": "937509b0-2ec2-4bda-a2ca-3fb545867eff",
   "metadata": {},
   "outputs": [
    {
     "data": {
      "text/plain": [
       "17"
      ]
     },
     "execution_count": 7,
     "metadata": {},
     "output_type": "execute_result"
    }
   ],
   "source": [
    "#This a simple arithmetic expression to mutiply then add integers.\n",
    "(3*4)+5"
   ]
  },
  {
   "cell_type": "code",
   "execution_count": 8,
   "id": "d00921aa-d5dc-47d2-8dfe-4a57cc59816c",
   "metadata": {},
   "outputs": [
    {
     "data": {
      "text/plain": [
       "3.3333333333333335"
      ]
     },
     "execution_count": 8,
     "metadata": {},
     "output_type": "execute_result"
    }
   ],
   "source": [
    "#This will convert 200 minutes to hours by diving by 60.\n",
    "200/60"
   ]
  },
  {
   "cell_type": "markdown",
   "id": "4814c2c3-46fc-460d-90e1-b6011985cf90",
   "metadata": {},
   "source": [
    "## Author\n",
    "Dan Prumanov"
   ]
  },
  {
   "cell_type": "code",
   "execution_count": null,
   "id": "cae3060c-09ab-4024-8803-2f6d777cabf9",
   "metadata": {},
   "outputs": [],
   "source": []
  }
 ],
 "metadata": {
  "kernelspec": {
   "display_name": "Python 3 (ipykernel)",
   "language": "python",
   "name": "python3"
  },
  "language_info": {
   "codemirror_mode": {
    "name": "ipython",
    "version": 3
   },
   "file_extension": ".py",
   "mimetype": "text/x-python",
   "name": "python",
   "nbconvert_exporter": "python",
   "pygments_lexer": "ipython3",
   "version": "3.12.8"
  }
 },
 "nbformat": 4,
 "nbformat_minor": 5
}
